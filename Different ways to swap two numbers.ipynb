{
 "cells": [
  {
   "cell_type": "code",
   "execution_count": 1,
   "metadata": {},
   "outputs": [
    {
     "name": "stdout",
     "output_type": "stream",
     "text": [
      "Enter First number5\n",
      "Enter second number100\n",
      "Value of x:  100\n",
      "value of y:  5\n"
     ]
    }
   ],
   "source": [
    "x=int(input(\"Enter First number\"))#5\n",
    "y=int(input(\"Enter second number\"))#10\n",
    "temp=x;\n",
    "x=y\n",
    "y=temp\n",
    "#temp=5\n",
    "#x=10\n",
    "#y=5\n",
    "print(\"Value of x: \",x)\n",
    "print(\"value of y: \",y)"
   ]
  },
  {
   "cell_type": "code",
   "execution_count": 2,
   "metadata": {},
   "outputs": [
    {
     "name": "stdout",
     "output_type": "stream",
     "text": [
      "Enter First number5\n",
      "Enter second number100\n",
      "Value of x:  100\n",
      "value of y:  5\n"
     ]
    }
   ],
   "source": [
    "x=int(input(\"Enter First number\"))\n",
    "y=int(input(\"Enter second number\"))\n",
    "x,y=y,x\n",
    "print(\"Value of x: \",x)\n",
    "print(\"value of y: \",y)"
   ]
  },
  {
   "cell_type": "code",
   "execution_count": 3,
   "metadata": {},
   "outputs": [
    {
     "name": "stdout",
     "output_type": "stream",
     "text": [
      "Enter First number10\n",
      "Enter second number100\n",
      "Value of x:  100\n",
      "value of y:  10\n"
     ]
    }
   ],
   "source": [
    "x=int(input(\"Enter First number\"))#5\n",
    "y=int(input(\"Enter second number\"))#10\n",
    "x=x+y#x=15\n",
    "y=x-y#y=5\n",
    "x=x-y#x=10\n",
    "print(\"Value of x: \",x)\n",
    "print(\"value of y: \",y)"
   ]
  },
  {
   "cell_type": "code",
   "execution_count": 4,
   "metadata": {},
   "outputs": [
    {
     "name": "stdout",
     "output_type": "stream",
     "text": [
      "Enter First number32\n",
      "Enter second number21\n",
      "Value of x:  21\n",
      "value of y:  32\n"
     ]
    }
   ],
   "source": [
    "x=int(input(\"Enter First number\"))#10 1010\n",
    "y=int(input(\"Enter second number\"))#5 0101\n",
    "x=x^y # 1111 15 x=15\n",
    "y=x^y #x=1111 y=0101 ,y=1010 ,Ten(10)\n",
    "x=x^y #x=1111 y=1010 ,x=0101 ,Five(5)\n",
    "print(\"Value of x: \",x)\n",
    "print(\"value of y: \",y)"
   ]
  },
  {
   "cell_type": "code",
   "execution_count": 5,
   "metadata": {},
   "outputs": [
    {
     "name": "stdout",
     "output_type": "stream",
     "text": [
      "Enter First number3\n",
      "Enter second number5\n",
      "3\n",
      "5\n"
     ]
    }
   ],
   "source": [
    "x=int(input(\"Enter First number\"))\n",
    "y=int(input(\"Enter second number\"))\n",
    "print(x)\n",
    "print(y)"
   ]
  },
  {
   "cell_type": "code",
   "execution_count": 7,
   "metadata": {},
   "outputs": [
    {
     "name": "stdout",
     "output_type": "stream",
     "text": [
      "Enter two values:2 3\n",
      "Value of x:  2\n",
      "value of y:  3\n"
     ]
    }
   ],
   "source": [
    "x,y=input(\"Enter two values:\").split()\n",
    "print(\"Value of x: \",x)\n",
    "print(\"value of y: \",y)"
   ]
  },
  {
   "cell_type": "code",
   "execution_count": null,
   "metadata": {},
   "outputs": [],
   "source": []
  }
 ],
 "metadata": {
  "kernelspec": {
   "display_name": "Python 3",
   "language": "python",
   "name": "python3"
  },
  "language_info": {
   "codemirror_mode": {
    "name": "ipython",
    "version": 3
   },
   "file_extension": ".py",
   "mimetype": "text/x-python",
   "name": "python",
   "nbconvert_exporter": "python",
   "pygments_lexer": "ipython3",
   "version": "3.7.4"
  }
 },
 "nbformat": 4,
 "nbformat_minor": 2
}
